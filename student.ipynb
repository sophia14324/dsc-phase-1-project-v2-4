{
 "cells": [
  {
   "cell_type": "markdown",
   "metadata": {},
   "source": [
    "## Final Project Submission\n",
    "\n",
    "Please fill out:\n",
    "* Student name: Sophia Mumbi Mbataru\n",
    "* Student pace: Full time\n",
    "* Scheduled project review date/time: 26/08/2022\n",
    "* Instructor name: Lucille/William/Nikita/Antonny\n",
    "* Blog post URL: NIL\n"
   ]
  },
  {
   "cell_type": "markdown",
   "metadata": {},
   "source": [
    "# Business Problem\n",
    "Microsoft sees all the big companies creating original video content and they want to get in on the fun. They have decided to create a new movie studio, but they don’t know anything about creating movies. You are charged with exploring what types of films are currently doing the best at the box office. You must then translate those findings into actionable insights that the head of Microsoft's new movie studio can use to help decide what type of films to create.\n",
    "\n"
   ]
  },
  {
   "cell_type": "markdown",
   "metadata": {},
   "source": [
    "# DESCRIBING THE QUESTIONS\n",
    "1. Are movies making money?\n",
    "2. Which movie studios obtain the highest gross domestically?\n",
    "3. What is the correlation between runtime minutes and production budget? \n"
   ]
  },
  {
   "cell_type": "markdown",
   "metadata": {},
   "source": [
    "# Data Preparation\n",
    "\n",
    "Data preparation helps prepare data from different datasets and transform them to clean data that will be used for data analysis to answer the questions."
   ]
  },
  {
   "cell_type": "code",
   "execution_count": 1,
   "metadata": {},
   "outputs": [],
   "source": [
    "#import standard python libraries\n",
    "\n",
    "import pandas as pd\n",
    "import numpy as np\n",
    "import matplotlib.pyplot as plt\n",
    "import seaborn as sns\n",
    "\n",
    "%matplotlib inline"
   ]
  },
  {
   "cell_type": "markdown",
   "metadata": {},
   "source": [
    "# Loading data"
   ]
  },
  {
   "cell_type": "code",
   "execution_count": null,
   "metadata": {},
   "outputs": [],
   "source": [
    "#Load the datasets to be used for analysis\n",
    "bom_movies = pd.read_csv(\"zippedData/bom.movie_gross.csv\")\n",
    "tmdb_movies = pd.read_csv(\"zippedData/tmdb.movies.csv\")\n",
    "tn_movie_budgets = pd.read_csv(\"zippedData/tn.movie_budgets.csv\")\n",
    "rt_movie = pd.read_csv('zippedData/rt.movie_info.tsv.gz', sep='\\t')\n",
    "\n",
    "\n",
    "\n"
   ]
  },
  {
   "cell_type": "markdown",
   "metadata": {},
   "source": [
    "# Data Understanding\n",
    "\n",
    "Data Understanding helps us know where the data came from and how they relate to the data anaysis questions\n",
    "It helps us know what and who is in the data presented, and the properties of the variables to be used i.e., production budget, runtime minutes, domestic gross and studio."
   ]
  },
  {
   "cell_type": "code",
   "execution_count": null,
   "metadata": {},
   "outputs": [],
   "source": [
    "#Get the statistical description of the dataset bom_movies\n",
    "\n",
    "bom_movies.describe(include = 'all')"
   ]
  },
  {
   "cell_type": "code",
   "execution_count": null,
   "metadata": {},
   "outputs": [],
   "source": [
    "#tmdb_movies\n",
    "tmdb_movies.describe(include = 'all')"
   ]
  },
  {
   "cell_type": "code",
   "execution_count": null,
   "metadata": {},
   "outputs": [],
   "source": [
    "# tn_movie_budgets\n",
    "tn_movie_budgets.describe(include = 'all')"
   ]
  },
  {
   "cell_type": "code",
   "execution_count": null,
   "metadata": {},
   "outputs": [],
   "source": [
    "#rt_movie\n",
    "rt_movie.describe(include = 'all')"
   ]
  },
  {
   "cell_type": "markdown",
   "metadata": {},
   "source": [
    "Each dataframe shows presence of NaN values (Not a Number) so they will need to be dealt with"
   ]
  },
  {
   "cell_type": "code",
   "execution_count": null,
   "metadata": {},
   "outputs": [],
   "source": [
    "#Getting the general description of the datasets to better understand the data\n",
    "\n",
    "tn_movie_budgets.info()"
   ]
  },
  {
   "cell_type": "code",
   "execution_count": null,
   "metadata": {},
   "outputs": [],
   "source": [
    "tmdb_movies.info()\n"
   ]
  },
  {
   "cell_type": "code",
   "execution_count": null,
   "metadata": {},
   "outputs": [],
   "source": [
    "bom_movies.info()"
   ]
  },
  {
   "cell_type": "code",
   "execution_count": null,
   "metadata": {},
   "outputs": [],
   "source": [
    "rt_movie.info()"
   ]
  },
  {
   "cell_type": "code",
   "execution_count": null,
   "metadata": {},
   "outputs": [],
   "source": [
    "#Rows and columns of the data\n",
    "\n",
    "print(bom_movies.shape)\n",
    "print('The dataset has ' + str(bom_movies.shape[0]) + ' rows and ' + str(bom_movies.shape[1]) + ' columns')\n",
    "\n"
   ]
  },
  {
   "cell_type": "code",
   "execution_count": null,
   "metadata": {},
   "outputs": [],
   "source": [
    "print(tmdb_movies.shape)\n",
    "print('The dataset has ' + str(tmdb_movies.shape[0]) + ' rows and ' + str(tmdb_movies.shape[1]) + ' columns')\n",
    "\n"
   ]
  },
  {
   "cell_type": "code",
   "execution_count": null,
   "metadata": {},
   "outputs": [],
   "source": [
    "print(tn_movie_budgets.shape)\n",
    "print('The dataset has ' + str(tn_movie_budgets.shape[0]) + ' rows and ' + str(tn_movie_budgets.shape[1]) + ' columns')\n",
    "\n"
   ]
  },
  {
   "cell_type": "code",
   "execution_count": null,
   "metadata": {},
   "outputs": [],
   "source": [
    "print(rt_movie.shape)\n",
    "print('The dataset has ' + str(rt_movie.shape[0]) + ' rows and ' + str(rt_movie.shape[1]) + ' columns')"
   ]
  },
  {
   "cell_type": "code",
   "execution_count": null,
   "metadata": {},
   "outputs": [],
   "source": [
    "#Read the heads and tails (preview) of the Datasets we'll work with.\n",
    "bom_movies.head()\n",
    "\n"
   ]
  },
  {
   "cell_type": "code",
   "execution_count": null,
   "metadata": {},
   "outputs": [],
   "source": [
    "bom_movies.tail()\n"
   ]
  },
  {
   "cell_type": "code",
   "execution_count": null,
   "metadata": {},
   "outputs": [],
   "source": [
    "tmdb_movies.head()\n",
    "\n"
   ]
  },
  {
   "cell_type": "code",
   "execution_count": null,
   "metadata": {},
   "outputs": [],
   "source": [
    "tmdb_movies.tail()\n"
   ]
  },
  {
   "cell_type": "code",
   "execution_count": null,
   "metadata": {},
   "outputs": [],
   "source": [
    "tn_movie_budgets.head()"
   ]
  },
  {
   "cell_type": "code",
   "execution_count": null,
   "metadata": {},
   "outputs": [],
   "source": [
    "tn_movie_budgets.tail()"
   ]
  },
  {
   "cell_type": "code",
   "execution_count": null,
   "metadata": {},
   "outputs": [],
   "source": [
    "rt_movie.head()"
   ]
  },
  {
   "cell_type": "code",
   "execution_count": null,
   "metadata": {},
   "outputs": [],
   "source": [
    "rt_movie.tail()"
   ]
  },
  {
   "cell_type": "markdown",
   "metadata": {},
   "source": [
    "# Data Cleaning\n",
    "\n",
    "Data cleaning helps us ensure data is free of inaccuracies, inconcistencies, non-uniformity and incompleteness."
   ]
  },
  {
   "cell_type": "code",
   "execution_count": null,
   "metadata": {},
   "outputs": [],
   "source": [
    "#check for duplicates\n",
    "bom_movies.duplicated().value_counts()\n"
   ]
  },
  {
   "cell_type": "code",
   "execution_count": null,
   "metadata": {},
   "outputs": [],
   "source": [
    "tmdb_movies.duplicated().value_counts()\n"
   ]
  },
  {
   "cell_type": "code",
   "execution_count": null,
   "metadata": {},
   "outputs": [],
   "source": [
    "tn_movie_budgets.duplicated().value_counts()\n"
   ]
  },
  {
   "cell_type": "code",
   "execution_count": null,
   "metadata": {},
   "outputs": [],
   "source": [
    "rt_movie.duplicated().value_counts()\n"
   ]
  },
  {
   "cell_type": "markdown",
   "metadata": {},
   "source": [
    "There are no duplicates recorded in any data frame, so we carry on"
   ]
  },
  {
   "cell_type": "code",
   "execution_count": null,
   "metadata": {},
   "outputs": [],
   "source": [
    "#Check for missing values\n",
    "\n",
    "tmdb_movies.isna().any()\n"
   ]
  },
  {
   "cell_type": "code",
   "execution_count": null,
   "metadata": {},
   "outputs": [],
   "source": [
    "tn_movie_budgets.isna().any()\n"
   ]
  },
  {
   "cell_type": "code",
   "execution_count": null,
   "metadata": {},
   "outputs": [],
   "source": [
    "bom_movies.isna().any()\n"
   ]
  },
  {
   "cell_type": "code",
   "execution_count": null,
   "metadata": {},
   "outputs": [],
   "source": [
    "bom_movies.isna().sum()"
   ]
  },
  {
   "cell_type": "code",
   "execution_count": null,
   "metadata": {},
   "outputs": [],
   "source": [
    "#Determine the percentage of rows of the foreign_gross column containing missing values\n",
    "#To further determine what to do with the dataset\n",
    "\n",
    "print('Percentage of Null foreign_gross Values:', len(bom_movies[bom_movies.foreign_gross.isna()])/ len(bom_movies))\n",
    "print('Number of Unique foreign_gross Values:', bom_movies.foreign_gross.nunique())"
   ]
  },
  {
   "cell_type": "markdown",
   "metadata": {},
   "source": [
    "The bom_movies dataset has three columns with missing values. The studio and domestic gross column has a very low percentage of missing data that will not affect our analysis. The percentage of missing  values in the foreign gross column is 39.86%. This number is also not that high to warrant dropping the column. "
   ]
  },
  {
   "cell_type": "markdown",
   "metadata": {},
   "source": [
    "# Data Analysis"
   ]
  },
  {
   "cell_type": "markdown",
   "metadata": {},
   "source": [
    "#  Question 1: Are movies profitable?\n",
    "\n",
    "To answer this question, the tn_movie_budgets dataset will be analyzed. To determine the profitability of movies, the production budgets need to be subtracted from the domestic gross."
   ]
  },
  {
   "cell_type": "code",
   "execution_count": null,
   "metadata": {},
   "outputs": [],
   "source": [
    "#remove the dollar sign and comma sign of col (production budget) for simpler subtraction of the columns\n",
    "\n",
    "#tn_movie_budgets['production_budget'] = tn_movie_budgets['production_budget'].replace({'$': '', ',': ''}, regex=True)\n",
    "\n",
    "tn_movie_budgets.production_budget = tn_movie_budgets.production_budget.apply(lambda x:x.replace('$','').replace(',',''))\n",
    "\n",
    "tn_movie_budgets\n",
    "\n"
   ]
  },
  {
   "cell_type": "code",
   "execution_count": null,
   "metadata": {},
   "outputs": [],
   "source": [
    "#remove the dollar sign and comma sign of col (domestic gross) for simpler subtraction of the columns\n",
    "\n",
    "tn_movie_budgets.domestic_gross = tn_movie_budgets.domestic_gross.apply(lambda x:x.replace('$','').replace(',',''))\n",
    "\n",
    "tn_movie_budgets"
   ]
  },
  {
   "cell_type": "code",
   "execution_count": null,
   "metadata": {
    "scrolled": false
   },
   "outputs": [],
   "source": [
    "# ensure all rows are of the same datatype int (convert float to int)\n",
    "tn_movie_budgets['domestic_gross'] = tn_movie_budgets['domestic_gross'].astype(int)\n",
    "tn_movie_budgets['production_budget'] = tn_movie_budgets['production_budget'].astype(int)\n",
    "\n",
    "#Profit = absolute value(domestic_gross - production_budget)\n",
    "#create a new column called profits and get the absolute values\n",
    "\n",
    "#tn_movie_budgets['profits'] = tn_movie_budgets.apply(lambda x: x['domestic_gross'] - x['production_budget'], axis=1)\n",
    "#tn_movie_budgets\n",
    "tn_movie_budgets['profits'] = tn_movie_budgets[\"domestic_gross\"].subtract(tn_movie_budgets[\"production_budget\"])\n",
    "tn_movie_budgets['profits'] = tn_movie_budgets['profits'].abs()\n"
   ]
  },
  {
   "cell_type": "code",
   "execution_count": null,
   "metadata": {},
   "outputs": [],
   "source": [
    "#create a new dataframe and isolate other variables but movie and domestic gross\n",
    "\n",
    "profitability = tn_movie_budgets.drop([\"id\", \"release_date\", \"domestic_gross\", \"production_budget\", \"worldwide_gross\"], axis =1)\n",
    "profitability"
   ]
  },
  {
   "cell_type": "code",
   "execution_count": null,
   "metadata": {},
   "outputs": [],
   "source": [
    "#visual representation of movie vs profits\n",
    "\n",
    "#create the plot\n",
    "sns.set_style(\"white\")\n",
    "ax, bar = plt.subplots(figsize = (10, 8))\n",
    "\n",
    "sns.barplot(x = profitability['movie'], y = profitability['profits'], palette = \"Blues_r\")\n",
    "plt.xlabel(\"Movies\", fontsize = 15)\n",
    "plt.ylabel(\"Profits\", fontsize = 15)\n",
    "plt.xticks(rotation = '45')\n",
    "#graph the distribution\n",
    "#ax.hist(x = profitability['movie'], y = profitability['profits'], bins = 100)\n",
    "\n",
    "#set title\n",
    "ax.set_title(\"Profitability of Movies\")\n"
   ]
  },
  {
   "cell_type": "markdown",
   "metadata": {},
   "source": [
    "# Question 2: Which movie studios obtain the highest gross domestically?\n",
    "\n",
    "For this analysis, the bom_movies data frame will be used to answer the question."
   ]
  },
  {
   "cell_type": "code",
   "execution_count": null,
   "metadata": {},
   "outputs": [],
   "source": [
    "#Preview of the data\n",
    "\n",
    "bom_movies.head()\n"
   ]
  },
  {
   "cell_type": "code",
   "execution_count": null,
   "metadata": {},
   "outputs": [],
   "source": [
    "#Let's make the columns in question one datatype\n",
    "\n",
    "#domestic_gross = (bom_movies['domestic_gross']).astype(str)\n",
    "#studio = (bom_movies['studio']).astype(str)\n"
   ]
  },
  {
   "cell_type": "code",
   "execution_count": null,
   "metadata": {},
   "outputs": [],
   "source": [
    "grouped_studio = bom_movies.groupby([\"studio\"])\n",
    "gross = grouped_studio['domestic_gross'].mean()\n",
    "gross.sort_values(ascending = False, inplace = True)\n",
    "gross = gross[:20,]\n",
    "\n",
    "plt.figure(figsize = (10,8))\n",
    "\n",
    "x = gross.index\n",
    "y = gross.values\n",
    "\n",
    "sns.barplot(x,y, palette = \"rocket_r\")\n",
    "plt.xlabel(\"Studio\", fontsize = 15)\n",
    "plt.ylabel(\"Domestic Gross\", fontsize = 15)\n",
    "plt.xticks(rotation = '60')\n",
    "plt.title(\"Studio vs Domestic Gross\")\n",
    " \n"
   ]
  },
  {
   "cell_type": "code",
   "execution_count": null,
   "metadata": {
    "scrolled": true
   },
   "outputs": [],
   "source": [
    "#visual representation of Studio vs Domestic Gross\n",
    "\n",
    "#create the plot\n",
    "fig, ax = plt.subplots()\n",
    "\n",
    "#graph the distribution\n",
    "ax.hist(studio, bins = 5)\n",
    "\n",
    "#set title\n",
    "ax.set_title(\"Studio vs Domestic Gross\")\n",
    "\n",
    "# Set labels for X and Y axes\n",
    "ax.set_xlabel(\"Studio\")\n",
    "ax.set_ylabel(\"Domestic Gross\")\n",
    "plt.xticks(rotation = \"45\")\n",
    "\n"
   ]
  },
  {
   "cell_type": "markdown",
   "metadata": {},
   "source": [
    "# Question 3: What is the correlation between runtime minutes and production budget? \n",
    "\n",
    "For this analysis, the tn_movie_budgets and rt_movie data frames will be used to answer the question."
   ]
  },
  {
   "cell_type": "code",
   "execution_count": null,
   "metadata": {},
   "outputs": [],
   "source": [
    "#create a new df to store 2 dfs\n",
    "#merge inner to get unique values\n",
    "\n",
    "df = pd.merge(tn_movie_budgets, rt_movie, how='inner')\n",
    "\n",
    "#preview the data\n",
    "df.head()\n"
   ]
  },
  {
   "cell_type": "code",
   "execution_count": null,
   "metadata": {},
   "outputs": [],
   "source": [
    "#Isolate the needed columns into a new variable called runtime_budget\n",
    "\n",
    "runtime_budget = df.drop([\"id\",\"release_date\", \"movie\", \"domestic_gross\", \"worldwide_gross\", \"synopsis\", \"rating\", \"genre\", \"director\", \"writer\", \"theater_date\", \"dvd_date\", \"currency\", \"box_office\", \"studio\"], axis = 1)\n",
    "\n",
    "runtime_budget"
   ]
  },
  {
   "cell_type": "code",
   "execution_count": null,
   "metadata": {},
   "outputs": [],
   "source": [
    "runtime_budget.isnull().sum()"
   ]
  },
  {
   "cell_type": "code",
   "execution_count": null,
   "metadata": {},
   "outputs": [],
   "source": [
    "#drop NaN values in column runtime\n",
    "\n",
    "runtime_budget.dropna(subset= ['runtime'], inplace= True)\n",
    "runtime_budget.isnull().sum()\n",
    "\n"
   ]
  },
  {
   "cell_type": "code",
   "execution_count": null,
   "metadata": {},
   "outputs": [],
   "source": [
    "#remove the dollar and comma signs on column production_budget for easier analysis\n",
    "\n",
    "#runtime_budget.production_budget = runtime_budget.production_budget.apply(lambda x:x.replace('$','').replace(',',''))\n",
    "\n",
    "runtime_budget['production_budget'] = runtime_budget['production_budget'].replace({'$': '', ',': ''}, regex=True)\n",
    "\n",
    "#df.runtime = df.runtime.apply(lambda x:x.replace(' minutes',''))\n",
    "\n",
    "#remove the word minutes in all rows of column runtime for easier analysis\n",
    "runtime_budget['runtime'] = runtime_budget['runtime'].replace({' minutes': ''}, regex=True)\n"
   ]
  },
  {
   "cell_type": "code",
   "execution_count": null,
   "metadata": {},
   "outputs": [],
   "source": [
    "#ensure the data is of datatype int in all rows\n",
    "\n",
    "#runtime = (runtime_budget['runtime']).astype(int)\n",
    "#production_budget = (runtime_budget['production_budget']).astype(int)\n"
   ]
  },
  {
   "cell_type": "code",
   "execution_count": null,
   "metadata": {},
   "outputs": [],
   "source": [
    "#visualize runtime vs production budget\n",
    "\n",
    "#create the plot\n",
    "fig, ax = plt.subplots()\n",
    "\n",
    "#graph the distribution\n",
    "runtimes = runtime_budget['runtime'].value_counts()\n",
    "#production =\n",
    "ax.hist(runtimes, bins = 5)\n",
    "\n",
    "#set title\n",
    "ax.set_title(\"High Budget: Runtime vs Production Budget\")\n",
    "\n",
    "#set labels for X and Y axes\n",
    "ax.set_xlabel(\"Runtime in minutes\")\n",
    "ax.set_ylabel(\"Production Budget\")"
   ]
  },
  {
   "cell_type": "code",
   "execution_count": null,
   "metadata": {},
   "outputs": [],
   "source": []
  }
 ],
 "metadata": {
  "kernelspec": {
   "display_name": "Python 3 (ipykernel)",
   "language": "python",
   "name": "python3"
  },
  "language_info": {
   "codemirror_mode": {
    "name": "ipython",
    "version": 3
   },
   "file_extension": ".py",
   "mimetype": "text/x-python",
   "name": "python",
   "nbconvert_exporter": "python",
   "pygments_lexer": "ipython3",
   "version": "3.9.7"
  }
 },
 "nbformat": 4,
 "nbformat_minor": 2
}
